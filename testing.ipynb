{
 "cells": [
  {
   "cell_type": "code",
   "execution_count": 3,
   "metadata": {},
   "outputs": [
    {
     "ename": "HttpError",
     "evalue": "<HttpError 403 when requesting https://youtube.googleapis.com/youtube/v3/playlistItems?part=snippet&playlistId=PLWL3FzHaRRMmmosrhRT7c_Q-S27W2FuJs&maxResults=50&alt=json returned \"Request had insufficient authentication scopes.\". Details: \"[{'message': 'Insufficient Permission', 'domain': 'global', 'reason': 'insufficientPermissions'}]\">",
     "output_type": "error",
     "traceback": [
      "\u001b[0;31m---------------------------------------------------------------------------\u001b[0m",
      "\u001b[0;31mHttpError\u001b[0m                                 Traceback (most recent call last)",
      "Cell \u001b[0;32mIn[3], line 1\u001b[0m\n\u001b[0;32m----> 1\u001b[0m \u001b[39mfrom\u001b[39;00m \u001b[39myoutube\u001b[39;00m \u001b[39mimport\u001b[39;00m donwloadder\n",
      "File \u001b[0;32m~/INSPER/6semestre/NLP/nlp_final_exam/youtube.py:62\u001b[0m\n\u001b[1;32m     58\u001b[0m         \u001b[39mprint\u001b[39m(\u001b[39mf\u001b[39m\u001b[39m\"\u001b[39m\u001b[39mTags for video \u001b[39m\u001b[39m{\u001b[39;00mvideo_id\u001b[39m}\u001b[39;00m\u001b[39m: \u001b[39m\u001b[39m{\u001b[39;00m\u001b[39m'\u001b[39m\u001b[39m, \u001b[39m\u001b[39m'\u001b[39m\u001b[39m.\u001b[39mjoin(tags)\u001b[39m}\u001b[39;00m\u001b[39m\"\u001b[39m)\n\u001b[1;32m     59\u001b[0m         \u001b[39mreturn\u001b[39;00m tags\n\u001b[0;32m---> 62\u001b[0m donwloadder()\n",
      "File \u001b[0;32m~/INSPER/6semestre/NLP/nlp_final_exam/youtube.py:38\u001b[0m, in \u001b[0;36mdonwloadder\u001b[0;34m(playlist_id)\u001b[0m\n\u001b[1;32m     30\u001b[0m \u001b[39mwhile\u001b[39;00m \u001b[39mTrue\u001b[39;00m:\n\u001b[1;32m     31\u001b[0m     \u001b[39m# Make the API request to retrieve the next page of videos\u001b[39;00m\n\u001b[1;32m     32\u001b[0m     playlist_request \u001b[39m=\u001b[39m youtube\u001b[39m.\u001b[39mplaylistItems()\u001b[39m.\u001b[39mlist(\n\u001b[1;32m     33\u001b[0m         part\u001b[39m=\u001b[39m\u001b[39m'\u001b[39m\u001b[39msnippet\u001b[39m\u001b[39m'\u001b[39m,\n\u001b[1;32m     34\u001b[0m         playlistId\u001b[39m=\u001b[39mplaylist_id,\n\u001b[1;32m     35\u001b[0m         maxResults\u001b[39m=\u001b[39m\u001b[39m50\u001b[39m,\n\u001b[1;32m     36\u001b[0m         pageToken\u001b[39m=\u001b[39mnext_page_token\n\u001b[1;32m     37\u001b[0m     )\n\u001b[0;32m---> 38\u001b[0m     playlist_response \u001b[39m=\u001b[39m playlist_request\u001b[39m.\u001b[39;49mexecute()\n\u001b[1;32m     40\u001b[0m     \u001b[39m# Add the videos to the list\u001b[39;00m\n\u001b[1;32m     41\u001b[0m     playlist_items\u001b[39m.\u001b[39mextend(playlist_response[\u001b[39m'\u001b[39m\u001b[39mitems\u001b[39m\u001b[39m'\u001b[39m])\n",
      "File \u001b[0;32m~/.local/lib/python3.11/site-packages/googleapiclient/_helpers.py:130\u001b[0m, in \u001b[0;36mpositional.<locals>.positional_decorator.<locals>.positional_wrapper\u001b[0;34m(*args, **kwargs)\u001b[0m\n\u001b[1;32m    128\u001b[0m     \u001b[39melif\u001b[39;00m positional_parameters_enforcement \u001b[39m==\u001b[39m POSITIONAL_WARNING:\n\u001b[1;32m    129\u001b[0m         logger\u001b[39m.\u001b[39mwarning(message)\n\u001b[0;32m--> 130\u001b[0m \u001b[39mreturn\u001b[39;00m wrapped(\u001b[39m*\u001b[39;49margs, \u001b[39m*\u001b[39;49m\u001b[39m*\u001b[39;49mkwargs)\n",
      "File \u001b[0;32m~/.local/lib/python3.11/site-packages/googleapiclient/http.py:938\u001b[0m, in \u001b[0;36mHttpRequest.execute\u001b[0;34m(self, http, num_retries)\u001b[0m\n\u001b[1;32m    936\u001b[0m     callback(resp)\n\u001b[1;32m    937\u001b[0m \u001b[39mif\u001b[39;00m resp\u001b[39m.\u001b[39mstatus \u001b[39m>\u001b[39m\u001b[39m=\u001b[39m \u001b[39m300\u001b[39m:\n\u001b[0;32m--> 938\u001b[0m     \u001b[39mraise\u001b[39;00m HttpError(resp, content, uri\u001b[39m=\u001b[39m\u001b[39mself\u001b[39m\u001b[39m.\u001b[39muri)\n\u001b[1;32m    939\u001b[0m \u001b[39mreturn\u001b[39;00m \u001b[39mself\u001b[39m\u001b[39m.\u001b[39mpostproc(resp, content)\n",
      "\u001b[0;31mHttpError\u001b[0m: <HttpError 403 when requesting https://youtube.googleapis.com/youtube/v3/playlistItems?part=snippet&playlistId=PLWL3FzHaRRMmmosrhRT7c_Q-S27W2FuJs&maxResults=50&alt=json returned \"Request had insufficient authentication scopes.\". Details: \"[{'message': 'Insufficient Permission', 'domain': 'global', 'reason': 'insufficientPermissions'}]\">"
     ]
    }
   ],
   "source": []
  },
  {
   "cell_type": "code",
   "execution_count": 2,
   "metadata": {},
   "outputs": [
    {
     "ename": "NameError",
     "evalue": "name 'donwloadder' is not defined",
     "output_type": "error",
     "traceback": [
      "\u001b[0;31m---------------------------------------------------------------------------\u001b[0m",
      "\u001b[0;31mNameError\u001b[0m                                 Traceback (most recent call last)",
      "Cell \u001b[0;32mIn[2], line 1\u001b[0m\n\u001b[0;32m----> 1\u001b[0m donwloadder()\n",
      "\u001b[0;31mNameError\u001b[0m: name 'donwloadder' is not defined"
     ]
    }
   ],
   "source": [
    "donwloadder()"
   ]
  },
  {
   "cell_type": "code",
   "execution_count": null,
   "metadata": {},
   "outputs": [],
   "source": []
  }
 ],
 "metadata": {
  "kernelspec": {
   "display_name": "Python 3",
   "language": "python",
   "name": "python3"
  },
  "language_info": {
   "codemirror_mode": {
    "name": "ipython",
    "version": 3
   },
   "file_extension": ".py",
   "mimetype": "text/x-python",
   "name": "python",
   "nbconvert_exporter": "python",
   "pygments_lexer": "ipython3",
   "version": "3.11.3"
  },
  "orig_nbformat": 4
 },
 "nbformat": 4,
 "nbformat_minor": 2
}
